{
 "cells": [
  {
   "cell_type": "markdown",
   "metadata": {},
   "source": [
    "# Data Collection"
   ]
  },
  {
   "cell_type": "markdown",
   "metadata": {},
   "source": [
    "---"
   ]
  },
  {
   "cell_type": "markdown",
   "metadata": {},
   "source": [
    "## My objectives for this section:\n",
    "\n",
    "* To fetch the data from Kaggle and prepare it for processing"
   ]
  },
  {
   "cell_type": "markdown",
   "metadata": {},
   "source": [
    "## First import the required packages"
   ]
  },
  {
   "cell_type": "code",
   "execution_count": 2,
   "metadata": {},
   "outputs": [
    {
     "name": "stdout",
     "output_type": "stream",
     "text": [
      "Requirement already satisfied: streamlit==0.85.0 in /workspace/.pip-modules/lib/python3.8/site-packages (from -r /workspace/cherry-visualizer/requirements.txt (line 1)) (0.85.0)\n",
      "Requirement already satisfied: numpy==1.19.2 in /workspace/.pip-modules/lib/python3.8/site-packages (from -r /workspace/cherry-visualizer/requirements.txt (line 2)) (1.19.2)\n",
      "Requirement already satisfied: pandas==1.1.2 in /workspace/.pip-modules/lib/python3.8/site-packages (from -r /workspace/cherry-visualizer/requirements.txt (line 3)) (1.1.2)\n",
      "Requirement already satisfied: matplotlib==3.3.1 in /workspace/.pip-modules/lib/python3.8/site-packages (from -r /workspace/cherry-visualizer/requirements.txt (line 4)) (3.3.1)\n",
      "Requirement already satisfied: seaborn==0.11.0 in /workspace/.pip-modules/lib/python3.8/site-packages (from -r /workspace/cherry-visualizer/requirements.txt (line 5)) (0.11.0)\n",
      "Requirement already satisfied: plotly==4.12.0 in /workspace/.pip-modules/lib/python3.8/site-packages (from -r /workspace/cherry-visualizer/requirements.txt (line 6)) (4.12.0)\n",
      "Requirement already satisfied: protobuf==3.20 in /workspace/.pip-modules/lib/python3.8/site-packages (from -r /workspace/cherry-visualizer/requirements.txt (line 7)) (3.20.0)\n",
      "Requirement already satisfied: altair<5 in /workspace/.pip-modules/lib/python3.8/site-packages (from -r /workspace/cherry-visualizer/requirements.txt (line 8)) (4.2.2)\n",
      "Requirement already satisfied: astor in /workspace/.pip-modules/lib/python3.8/site-packages (from streamlit==0.85.0->-r /workspace/cherry-visualizer/requirements.txt (line 1)) (0.8.1)\n",
      "Requirement already satisfied: attrs in /home/gitpod/.pyenv/versions/3.8.18/lib/python3.8/site-packages (from streamlit==0.85.0->-r /workspace/cherry-visualizer/requirements.txt (line 1)) (24.2.0)\n",
      "Requirement already satisfied: base58 in /workspace/.pip-modules/lib/python3.8/site-packages (from streamlit==0.85.0->-r /workspace/cherry-visualizer/requirements.txt (line 1)) (2.1.1)\n",
      "Requirement already satisfied: blinker in /workspace/.pip-modules/lib/python3.8/site-packages (from streamlit==0.85.0->-r /workspace/cherry-visualizer/requirements.txt (line 1)) (1.8.2)\n",
      "Requirement already satisfied: cachetools>=4.0 in /workspace/.pip-modules/lib/python3.8/site-packages (from streamlit==0.85.0->-r /workspace/cherry-visualizer/requirements.txt (line 1)) (5.5.0)\n",
      "Requirement already satisfied: click<8.0,>=7.0 in /workspace/.pip-modules/lib/python3.8/site-packages (from streamlit==0.85.0->-r /workspace/cherry-visualizer/requirements.txt (line 1)) (7.1.2)\n",
      "Requirement already satisfied: packaging in /home/gitpod/.pyenv/versions/3.8.18/lib/python3.8/site-packages (from streamlit==0.85.0->-r /workspace/cherry-visualizer/requirements.txt (line 1)) (24.1)\n",
      "Requirement already satisfied: pillow>=6.2.0 in /workspace/.pip-modules/lib/python3.8/site-packages (from streamlit==0.85.0->-r /workspace/cherry-visualizer/requirements.txt (line 1)) (10.4.0)\n",
      "Requirement already satisfied: pyarrow in /workspace/.pip-modules/lib/python3.8/site-packages (from streamlit==0.85.0->-r /workspace/cherry-visualizer/requirements.txt (line 1)) (17.0.0)\n",
      "Requirement already satisfied: pydeck>=0.1.dev5 in /workspace/.pip-modules/lib/python3.8/site-packages (from streamlit==0.85.0->-r /workspace/cherry-visualizer/requirements.txt (line 1)) (0.9.1)\n",
      "Requirement already satisfied: python-dateutil in /home/gitpod/.pyenv/versions/3.8.18/lib/python3.8/site-packages (from streamlit==0.85.0->-r /workspace/cherry-visualizer/requirements.txt (line 1)) (2.9.0.post0)\n",
      "Requirement already satisfied: requests in /home/gitpod/.pyenv/versions/3.8.18/lib/python3.8/site-packages (from streamlit==0.85.0->-r /workspace/cherry-visualizer/requirements.txt (line 1)) (2.32.3)\n",
      "Requirement already satisfied: toml in /workspace/.pip-modules/lib/python3.8/site-packages (from streamlit==0.85.0->-r /workspace/cherry-visualizer/requirements.txt (line 1)) (0.10.2)\n",
      "Requirement already satisfied: tornado>=5.0 in /home/gitpod/.pyenv/versions/3.8.18/lib/python3.8/site-packages (from streamlit==0.85.0->-r /workspace/cherry-visualizer/requirements.txt (line 1)) (6.4.1)\n",
      "Requirement already satisfied: tzlocal in /workspace/.pip-modules/lib/python3.8/site-packages (from streamlit==0.85.0->-r /workspace/cherry-visualizer/requirements.txt (line 1)) (5.2)\n",
      "Requirement already satisfied: validators in /workspace/.pip-modules/lib/python3.8/site-packages (from streamlit==0.85.0->-r /workspace/cherry-visualizer/requirements.txt (line 1)) (0.34.0)\n",
      "Requirement already satisfied: gitpython in /workspace/.pip-modules/lib/python3.8/site-packages (from streamlit==0.85.0->-r /workspace/cherry-visualizer/requirements.txt (line 1)) (3.1.43)\n",
      "Requirement already satisfied: watchdog in /workspace/.pip-modules/lib/python3.8/site-packages (from streamlit==0.85.0->-r /workspace/cherry-visualizer/requirements.txt (line 1)) (4.0.2)\n",
      "Requirement already satisfied: pytz>=2017.2 in /home/gitpod/.pyenv/versions/3.8.18/lib/python3.8/site-packages (from pandas==1.1.2->-r /workspace/cherry-visualizer/requirements.txt (line 3)) (2024.2)\n",
      "Requirement already satisfied: certifi>=2020.06.20 in /home/gitpod/.pyenv/versions/3.8.18/lib/python3.8/site-packages (from matplotlib==3.3.1->-r /workspace/cherry-visualizer/requirements.txt (line 4)) (2024.8.30)\n",
      "Requirement already satisfied: cycler>=0.10 in /workspace/.pip-modules/lib/python3.8/site-packages (from matplotlib==3.3.1->-r /workspace/cherry-visualizer/requirements.txt (line 4)) (0.12.1)\n",
      "Requirement already satisfied: kiwisolver>=1.0.1 in /workspace/.pip-modules/lib/python3.8/site-packages (from matplotlib==3.3.1->-r /workspace/cherry-visualizer/requirements.txt (line 4)) (1.4.7)\n",
      "Requirement already satisfied: pyparsing!=2.0.4,!=2.1.2,!=2.1.6,>=2.0.3 in /workspace/.pip-modules/lib/python3.8/site-packages (from matplotlib==3.3.1->-r /workspace/cherry-visualizer/requirements.txt (line 4)) (3.1.4)\n",
      "Requirement already satisfied: scipy>=1.0 in /workspace/.pip-modules/lib/python3.8/site-packages (from seaborn==0.11.0->-r /workspace/cherry-visualizer/requirements.txt (line 5)) (1.9.3)\n",
      "Requirement already satisfied: retrying>=1.3.3 in /workspace/.pip-modules/lib/python3.8/site-packages (from plotly==4.12.0->-r /workspace/cherry-visualizer/requirements.txt (line 6)) (1.3.4)\n",
      "Requirement already satisfied: six in /home/gitpod/.pyenv/versions/3.8.18/lib/python3.8/site-packages (from plotly==4.12.0->-r /workspace/cherry-visualizer/requirements.txt (line 6)) (1.16.0)\n",
      "Requirement already satisfied: entrypoints in /workspace/.pip-modules/lib/python3.8/site-packages (from altair<5->-r /workspace/cherry-visualizer/requirements.txt (line 8)) (0.4)\n",
      "Requirement already satisfied: jinja2 in /home/gitpod/.pyenv/versions/3.8.18/lib/python3.8/site-packages (from altair<5->-r /workspace/cherry-visualizer/requirements.txt (line 8)) (3.1.4)\n",
      "Requirement already satisfied: jsonschema>=3.0 in /home/gitpod/.pyenv/versions/3.8.18/lib/python3.8/site-packages (from altair<5->-r /workspace/cherry-visualizer/requirements.txt (line 8)) (4.23.0)\n",
      "Requirement already satisfied: toolz in /workspace/.pip-modules/lib/python3.8/site-packages (from altair<5->-r /workspace/cherry-visualizer/requirements.txt (line 8)) (1.0.0)\n",
      "Requirement already satisfied: importlib-resources>=1.4.0 in /home/gitpod/.pyenv/versions/3.8.18/lib/python3.8/site-packages (from jsonschema>=3.0->altair<5->-r /workspace/cherry-visualizer/requirements.txt (line 8)) (6.4.5)\n",
      "Requirement already satisfied: jsonschema-specifications>=2023.03.6 in /home/gitpod/.pyenv/versions/3.8.18/lib/python3.8/site-packages (from jsonschema>=3.0->altair<5->-r /workspace/cherry-visualizer/requirements.txt (line 8)) (2023.12.1)\n",
      "Requirement already satisfied: pkgutil-resolve-name>=1.3.10 in /home/gitpod/.pyenv/versions/3.8.18/lib/python3.8/site-packages (from jsonschema>=3.0->altair<5->-r /workspace/cherry-visualizer/requirements.txt (line 8)) (1.3.10)\n",
      "Requirement already satisfied: referencing>=0.28.4 in /home/gitpod/.pyenv/versions/3.8.18/lib/python3.8/site-packages (from jsonschema>=3.0->altair<5->-r /workspace/cherry-visualizer/requirements.txt (line 8)) (0.35.1)\n",
      "Requirement already satisfied: rpds-py>=0.7.1 in /home/gitpod/.pyenv/versions/3.8.18/lib/python3.8/site-packages (from jsonschema>=3.0->altair<5->-r /workspace/cherry-visualizer/requirements.txt (line 8)) (0.20.0)\n",
      "Requirement already satisfied: MarkupSafe>=2.0 in /home/gitpod/.pyenv/versions/3.8.18/lib/python3.8/site-packages (from jinja2->altair<5->-r /workspace/cherry-visualizer/requirements.txt (line 8)) (2.1.5)\n",
      "Requirement already satisfied: gitdb<5,>=4.0.1 in /workspace/.pip-modules/lib/python3.8/site-packages (from gitpython->streamlit==0.85.0->-r /workspace/cherry-visualizer/requirements.txt (line 1)) (4.0.11)\n",
      "Requirement already satisfied: charset-normalizer<4,>=2 in /home/gitpod/.pyenv/versions/3.8.18/lib/python3.8/site-packages (from requests->streamlit==0.85.0->-r /workspace/cherry-visualizer/requirements.txt (line 1)) (3.4.0)\n",
      "Requirement already satisfied: idna<4,>=2.5 in /home/gitpod/.pyenv/versions/3.8.18/lib/python3.8/site-packages (from requests->streamlit==0.85.0->-r /workspace/cherry-visualizer/requirements.txt (line 1)) (3.10)\n",
      "Requirement already satisfied: urllib3<3,>=1.21.1 in /home/gitpod/.pyenv/versions/3.8.18/lib/python3.8/site-packages (from requests->streamlit==0.85.0->-r /workspace/cherry-visualizer/requirements.txt (line 1)) (2.2.3)\n",
      "Requirement already satisfied: backports.zoneinfo in /workspace/.pip-modules/lib/python3.8/site-packages (from tzlocal->streamlit==0.85.0->-r /workspace/cherry-visualizer/requirements.txt (line 1)) (0.2.1)\n",
      "Requirement already satisfied: smmap<6,>=3.0.1 in /workspace/.pip-modules/lib/python3.8/site-packages (from gitdb<5,>=4.0.1->gitpython->streamlit==0.85.0->-r /workspace/cherry-visualizer/requirements.txt (line 1)) (5.0.1)\n",
      "Requirement already satisfied: zipp>=3.1.0 in /home/gitpod/.pyenv/versions/3.8.18/lib/python3.8/site-packages (from importlib-resources>=1.4.0->jsonschema>=3.0->altair<5->-r /workspace/cherry-visualizer/requirements.txt (line 8)) (3.20.2)\n",
      "Note: you may need to restart the kernel to use updated packages.\n"
     ]
    }
   ],
   "source": [
    "%pip install -r /workspace/cherry-visualizer/requirements.txt"
   ]
  },
  {
   "cell_type": "code",
   "execution_count": 3,
   "metadata": {},
   "outputs": [],
   "source": [
    "import numpy\n",
    "import os"
   ]
  },
  {
   "cell_type": "markdown",
   "metadata": {},
   "source": [
    "## Next change the current directory"
   ]
  },
  {
   "cell_type": "code",
   "execution_count": 4,
   "metadata": {},
   "outputs": [
    {
     "data": {
      "text/plain": [
       "'/workspace/cherry-visualizer/jupyter_notebooks'"
      ]
     },
     "execution_count": 4,
     "metadata": {},
     "output_type": "execute_result"
    }
   ],
   "source": [
    "current_dir = os.getcwd()\n",
    "current_dir"
   ]
  },
  {
   "cell_type": "code",
   "execution_count": 5,
   "metadata": {},
   "outputs": [
    {
     "name": "stdout",
     "output_type": "stream",
     "text": [
      "You set a new current directory\n"
     ]
    }
   ],
   "source": [
    "os.chdir('/workspace/cherry-visualizer')\n",
    "print(\"You set a new current directory\")"
   ]
  },
  {
   "cell_type": "code",
   "execution_count": 6,
   "metadata": {},
   "outputs": [
    {
     "data": {
      "text/plain": [
       "'/workspace/cherry-visualizer'"
      ]
     },
     "execution_count": 6,
     "metadata": {},
     "output_type": "execute_result"
    }
   ],
   "source": [
    "current_dir = os.getcwd()\n",
    "current_dir"
   ]
  },
  {
   "cell_type": "markdown",
   "metadata": {},
   "source": [
    "## Now install Kaggle"
   ]
  },
  {
   "cell_type": "code",
   "execution_count": 7,
   "metadata": {},
   "outputs": [
    {
     "name": "stdout",
     "output_type": "stream",
     "text": [
      "Requirement already satisfied: kaggle==1.5.12 in /workspace/.pip-modules/lib/python3.8/site-packages (1.5.12)\n",
      "Requirement already satisfied: six>=1.10 in /home/gitpod/.pyenv/versions/3.8.18/lib/python3.8/site-packages (from kaggle==1.5.12) (1.16.0)\n",
      "Requirement already satisfied: certifi in /home/gitpod/.pyenv/versions/3.8.18/lib/python3.8/site-packages (from kaggle==1.5.12) (2024.8.30)\n",
      "Requirement already satisfied: python-dateutil in /home/gitpod/.pyenv/versions/3.8.18/lib/python3.8/site-packages (from kaggle==1.5.12) (2.9.0.post0)\n",
      "Requirement already satisfied: requests in /home/gitpod/.pyenv/versions/3.8.18/lib/python3.8/site-packages (from kaggle==1.5.12) (2.32.3)\n",
      "Requirement already satisfied: tqdm in /workspace/.pip-modules/lib/python3.8/site-packages (from kaggle==1.5.12) (4.66.5)\n",
      "Requirement already satisfied: python-slugify in /workspace/.pip-modules/lib/python3.8/site-packages (from kaggle==1.5.12) (8.0.4)\n",
      "Requirement already satisfied: urllib3 in /home/gitpod/.pyenv/versions/3.8.18/lib/python3.8/site-packages (from kaggle==1.5.12) (2.2.3)\n",
      "Requirement already satisfied: text-unidecode>=1.3 in /workspace/.pip-modules/lib/python3.8/site-packages (from python-slugify->kaggle==1.5.12) (1.3)\n",
      "Requirement already satisfied: charset-normalizer<4,>=2 in /home/gitpod/.pyenv/versions/3.8.18/lib/python3.8/site-packages (from requests->kaggle==1.5.12) (3.4.0)\n",
      "Requirement already satisfied: idna<4,>=2.5 in /home/gitpod/.pyenv/versions/3.8.18/lib/python3.8/site-packages (from requests->kaggle==1.5.12) (3.10)\n",
      "Note: you may need to restart the kernel to use updated packages.\n"
     ]
    }
   ],
   "source": [
    "%pip install kaggle==1.5.12"
   ]
  },
  {
   "cell_type": "code",
   "execution_count": 8,
   "metadata": {},
   "outputs": [],
   "source": [
    "os.environ['KAGGLE_CONFIG_DIR'] = os.getcwd()\n",
    "! chmod 600 kaggle.json"
   ]
  },
  {
   "cell_type": "markdown",
   "metadata": {},
   "source": [
    "#### Setting the kaggle dataset and downloading it"
   ]
  },
  {
   "cell_type": "code",
   "execution_count": 10,
   "metadata": {},
   "outputs": [
    {
     "name": "stdout",
     "output_type": "stream",
     "text": [
      "Downloading cherry-leaves.zip to inputs/cherry-leaves-dataset\n",
      " 95%|███████████████████████████████████▉  | 52.0M/55.0M [00:02<00:00, 23.8MB/s]\n",
      "100%|██████████████████████████████████████| 55.0M/55.0M [00:03<00:00, 19.1MB/s]\n"
     ]
    }
   ],
   "source": [
    "KaggleDatasetPath = \"codeinstitute/cherry-leaves/data\"\n",
    "DestinationFolder = \"inputs/cherry-leaves-dataset\"   \n",
    "! kaggle datasets download -d {KaggleDatasetPath} -p {DestinationFolder}"
   ]
  },
  {
   "cell_type": "markdown",
   "metadata": {},
   "source": [
    "Unzip the downloaded file then delete the zip file"
   ]
  },
  {
   "cell_type": "code",
   "execution_count": 12,
   "metadata": {},
   "outputs": [],
   "source": [
    "import zipfile\n",
    "with zipfile.ZipFile(DestinationFolder + '/cherry-leaves.zip', 'r') as zip_ref:\n",
    "    zip_ref.extractall(DestinationFolder)\n",
    "\n",
    "os.remove(DestinationFolder + '/cherry-leaves.zip')"
   ]
  },
  {
   "cell_type": "code",
   "execution_count": null,
   "metadata": {},
   "outputs": [],
   "source": []
  }
 ],
 "metadata": {
  "kernelspec": {
   "display_name": "Python 3",
   "language": "python",
   "name": "python3"
  },
  "language_info": {
   "codemirror_mode": {
    "name": "ipython",
    "version": 3
   },
   "file_extension": ".py",
   "mimetype": "text/x-python",
   "name": "python",
   "nbconvert_exporter": "python",
   "pygments_lexer": "ipython3",
   "version": "3.8.18"
  }
 },
 "nbformat": 4,
 "nbformat_minor": 2
}
